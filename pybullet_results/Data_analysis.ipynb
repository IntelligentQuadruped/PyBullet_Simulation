{
 "cells": [
  {
   "cell_type": "code",
   "execution_count": 1,
   "metadata": {
    "collapsed": true
   },
   "outputs": [],
   "source": [
    "import pandas as pd \n",
    "import matplotlib.pyplot as plt \n",
    "import os\n",
    "import seaborn\n",
    "import numpy as np"
   ]
  },
  {
   "cell_type": "code",
   "execution_count": 2,
   "metadata": {},
   "outputs": [
    {
     "name": "stdout",
     "output_type": "stream",
     "text": [
      "Loaded data log:rc_output_no_head.csv\n",
      "Loaded data log:rc_output_w_head.csv\n",
      "Loaded data log:rc_output_Head_1.csv\n",
      "Loaded data log:rc_output_Head_2.csv\n",
      "Loaded data log:rc_output_w_Rotation.csv\n",
      "Loaded data log:.DS_Store\n",
      "Loaded data log:rc_output_collision_nohead.csv\n"
     ]
    }
   ],
   "source": [
    "data_dir = './random_trials/static'\n",
    "static_data = []\n",
    "for f in os.listdir(data_dir):\n",
    "    static_data.append(pd.read_csv(os.path.join(data_dir,f)))\n",
    "    print('Loaded data log:'+f)\n",
    "\n",
    "data_dir = './random_trials/rotational'\n",
    "head_data = []\n",
    "for f in os.listdir(data_dir):\n",
    "    head_data.append(pd.read_csv(os.path.join(data_dir,f)))\n",
    "    print('Loaded data log:'+f)\n",
    "    \n",
    "data_dir = './random_trials/collisions/rotational'\n",
    "hcoll_data = []\n",
    "for f in os.listdir(data_dir):\n",
    "    hcoll_data.append(pd.read_csv(os.path.join(data_dir,f)))\n",
    "    print('Loaded data log:'+f)\n",
    "data_dir = './random_trials/collisions/static'\n",
    "scoll_data = []\n",
    "for f in os.listdir(data_dir):\n",
    "    scoll_data.append(pd.read_csv(os.path.join(data_dir,f)))\n",
    "    print('Loaded data log:'+f)"
   ]
  },
  {
   "cell_type": "code",
   "execution_count": 3,
   "metadata": {},
   "outputs": [
    {
     "name": "stdout",
     "output_type": "stream",
     "text": [
      "(1000, 7) (1000, 7)\n",
      "(1600, 7) (1000, 7)\n"
     ]
    }
   ],
   "source": [
    "hd = head_data[0]\n",
    "sd = static_data[0]\n",
    "scoll = scoll_data[0]\n",
    "hcoll = hcoll_data[0]\n",
    "print(hd.shape,sd.shape)\n",
    "for i in range(len(static_data)-1):\n",
    "    sd = pd.concat([sd,static_data[i+1]])\n",
    "for i in range(len(head_data)-1):\n",
    "    hd = pd.concat([hd,head_data[i+1]])\n",
    "print(hd.shape,sd.shape)"
   ]
  },
  {
   "cell_type": "code",
   "execution_count": 4,
   "metadata": {},
   "outputs": [
    {
     "data": {
      "text/html": [
       "<div>\n",
       "<style>\n",
       "    .dataframe thead tr:only-child th {\n",
       "        text-align: right;\n",
       "    }\n",
       "\n",
       "    .dataframe thead th {\n",
       "        text-align: left;\n",
       "    }\n",
       "\n",
       "    .dataframe tbody tr th {\n",
       "        vertical-align: top;\n",
       "    }\n",
       "</style>\n",
       "<table border=\"1\" class=\"dataframe\">\n",
       "  <thead>\n",
       "    <tr style=\"text-align: right;\">\n",
       "      <th></th>\n",
       "      <th>Distance Travelled</th>\n",
       "      <th>Radial Distance</th>\n",
       "      <th>Turned Head</th>\n",
       "      <th>Blocks</th>\n",
       "      <th>Radius</th>\n",
       "    </tr>\n",
       "  </thead>\n",
       "  <tbody>\n",
       "    <tr>\n",
       "      <th>count</th>\n",
       "      <td>117.000000</td>\n",
       "      <td>117.000000</td>\n",
       "      <td>117.000000</td>\n",
       "      <td>117.000000</td>\n",
       "      <td>117.000000</td>\n",
       "    </tr>\n",
       "    <tr>\n",
       "      <th>mean</th>\n",
       "      <td>8.121927</td>\n",
       "      <td>6.122305</td>\n",
       "      <td>188.452991</td>\n",
       "      <td>141.658120</td>\n",
       "      <td>8.128205</td>\n",
       "    </tr>\n",
       "    <tr>\n",
       "      <th>std</th>\n",
       "      <td>5.733895</td>\n",
       "      <td>4.195030</td>\n",
       "      <td>84.858045</td>\n",
       "      <td>70.281842</td>\n",
       "      <td>2.191435</td>\n",
       "    </tr>\n",
       "    <tr>\n",
       "      <th>min</th>\n",
       "      <td>1.880757</td>\n",
       "      <td>1.536110</td>\n",
       "      <td>0.000000</td>\n",
       "      <td>32.000000</td>\n",
       "      <td>4.000000</td>\n",
       "    </tr>\n",
       "    <tr>\n",
       "      <th>25%</th>\n",
       "      <td>4.310895</td>\n",
       "      <td>3.472298</td>\n",
       "      <td>213.000000</td>\n",
       "      <td>72.000000</td>\n",
       "      <td>6.000000</td>\n",
       "    </tr>\n",
       "    <tr>\n",
       "      <th>50%</th>\n",
       "      <td>5.854900</td>\n",
       "      <td>4.244643</td>\n",
       "      <td>227.000000</td>\n",
       "      <td>128.000000</td>\n",
       "      <td>8.000000</td>\n",
       "    </tr>\n",
       "    <tr>\n",
       "      <th>75%</th>\n",
       "      <td>9.728071</td>\n",
       "      <td>7.576232</td>\n",
       "      <td>234.000000</td>\n",
       "      <td>200.000000</td>\n",
       "      <td>10.000000</td>\n",
       "    </tr>\n",
       "    <tr>\n",
       "      <th>max</th>\n",
       "      <td>31.635224</td>\n",
       "      <td>16.046121</td>\n",
       "      <td>247.000000</td>\n",
       "      <td>242.000000</td>\n",
       "      <td>11.000000</td>\n",
       "    </tr>\n",
       "  </tbody>\n",
       "</table>\n",
       "</div>"
      ],
      "text/plain": [
       "       Distance Travelled  Radial Distance  Turned Head      Blocks  \\\n",
       "count          117.000000       117.000000   117.000000  117.000000   \n",
       "mean             8.121927         6.122305   188.452991  141.658120   \n",
       "std              5.733895         4.195030    84.858045   70.281842   \n",
       "min              1.880757         1.536110     0.000000   32.000000   \n",
       "25%              4.310895         3.472298   213.000000   72.000000   \n",
       "50%              5.854900         4.244643   227.000000  128.000000   \n",
       "75%              9.728071         7.576232   234.000000  200.000000   \n",
       "max             31.635224        16.046121   247.000000  242.000000   \n",
       "\n",
       "           Radius  \n",
       "count  117.000000  \n",
       "mean     8.128205  \n",
       "std      2.191435  \n",
       "min      4.000000  \n",
       "25%      6.000000  \n",
       "50%      8.000000  \n",
       "75%     10.000000  \n",
       "max     11.000000  "
      ]
     },
     "execution_count": 4,
     "metadata": {},
     "output_type": "execute_result"
    }
   ],
   "source": [
    "hd[hd['Timeout']==True].describe()\n"
   ]
  },
  {
   "cell_type": "code",
   "execution_count": 5,
   "metadata": {},
   "outputs": [
    {
     "data": {
      "text/html": [
       "<div>\n",
       "<style>\n",
       "    .dataframe thead tr:only-child th {\n",
       "        text-align: right;\n",
       "    }\n",
       "\n",
       "    .dataframe thead th {\n",
       "        text-align: left;\n",
       "    }\n",
       "\n",
       "    .dataframe tbody tr th {\n",
       "        vertical-align: top;\n",
       "    }\n",
       "</style>\n",
       "<table border=\"1\" class=\"dataframe\">\n",
       "  <thead>\n",
       "    <tr style=\"text-align: right;\">\n",
       "      <th></th>\n",
       "      <th>Distance Travelled</th>\n",
       "      <th>Radial Distance</th>\n",
       "      <th>Deadend</th>\n",
       "      <th>Turned Head</th>\n",
       "      <th>Blocks</th>\n",
       "      <th>Radius</th>\n",
       "      <th>Timeout</th>\n",
       "    </tr>\n",
       "  </thead>\n",
       "  <tbody>\n",
       "    <tr>\n",
       "      <th>3</th>\n",
       "      <td>2.616054</td>\n",
       "      <td>2.527864</td>\n",
       "      <td>True</td>\n",
       "      <td>8</td>\n",
       "      <td>32</td>\n",
       "      <td>4</td>\n",
       "      <td>False</td>\n",
       "    </tr>\n",
       "    <tr>\n",
       "      <th>3</th>\n",
       "      <td>13.880760</td>\n",
       "      <td>11.888395</td>\n",
       "      <td>False</td>\n",
       "      <td>1</td>\n",
       "      <td>128</td>\n",
       "      <td>8</td>\n",
       "      <td>False</td>\n",
       "    </tr>\n",
       "    <tr>\n",
       "      <th>3</th>\n",
       "      <td>2.789320</td>\n",
       "      <td>2.585864</td>\n",
       "      <td>True</td>\n",
       "      <td>6</td>\n",
       "      <td>162</td>\n",
       "      <td>9</td>\n",
       "      <td>False</td>\n",
       "    </tr>\n",
       "  </tbody>\n",
       "</table>\n",
       "</div>"
      ],
      "text/plain": [
       "   Distance Travelled  Radial Distance  Deadend  Turned Head  Blocks  Radius  \\\n",
       "3            2.616054         2.527864     True            8      32       4   \n",
       "3           13.880760        11.888395    False            1     128       8   \n",
       "3            2.789320         2.585864     True            6     162       9   \n",
       "\n",
       "   Timeout  \n",
       "3    False  \n",
       "3    False  \n",
       "3    False  "
      ]
     },
     "execution_count": 5,
     "metadata": {},
     "output_type": "execute_result"
    }
   ],
   "source": [
    "hd.reset_index()\n",
    "hd.loc[3]"
   ]
  },
  {
   "cell_type": "markdown",
   "metadata": {},
   "source": [
    "A total of 2000 virtual trials are run to evaluate the performance of a static head component and a rotational head component. In order to test the obstacle avoidance algorithm is as many different scenerios as possible, each trial was run in a randomly generated labyrinth of changing size. The overall obstacle density was kept constant which means that the number of obstacles scalled quadratically with the size of the labyrinth. In consequence, the number of deadends in the larger labyrinths increased. Trials in which the robot is able to escape the labyrinth are considered a success. If it hits a deadend, the robot did not collide with anything but also cannot find a way out of the labyrinth. A time out occurs when the robot does not get stuck in a deadend but takes too long to escape the labyrinth. The successrate is the main metric in the comparision of the rotatinal to the static head design. Comparing the successrate of all trials, the rotational head design performs slightly better with escaping 48% of all trials. The static head version 42% of all trials. Noticeable is that this performance difference increases in larger Labyrinths. The rotational head design performce more than twice as well as the static head design for labyrithn radii above 10 simulation unit lenghts. The pie chart shows that the rotational head design takes the big majority of all escapes at the large scale labyrinth simulation for high obstacle density. "
   ]
  },
  {
   "cell_type": "code",
   "execution_count": 6,
   "metadata": {},
   "outputs": [
    {
     "name": "stdout",
     "output_type": "stream",
     "text": [
      "1600\n",
      "1000\n"
     ]
    }
   ],
   "source": [
    "series =[]\n",
    "index = []\n",
    "for i,df in enumerate([hd,sd]):\n",
    "    blocks = df['Blocks'][1]\n",
    "    radius = df['Radius'][1]\n",
    "#     df = df[df['Radius'] <= 7]\n",
    "    print(len(df))\n",
    "#     df = df[df['Radius'] > 3]\n",
    "    f = len(df[df['Deadend']==True])\n",
    "    s = len(df[df['Deadend']==False])\n",
    "    tot = s+f\n",
    "    t_frac = round(len(df[df['Timeout']==True])/tot,3)\n",
    "    s_frac = round(s/tot,3)\n",
    "    f_frac = round(f/tot,3)\n",
    "    series.append([s_frac-t_frac,f_frac,t_frac])\n",
    "    if df['Turned Head'].mean() > 1:\n",
    "        index.append('Turning Head '.format(radius,blocks))\n",
    "    else:\n",
    "        index.append('Static Head'.format(radius,blocks))"
   ]
  },
  {
   "cell_type": "code",
   "execution_count": 7,
   "metadata": {},
   "outputs": [
    {
     "name": "stdout",
     "output_type": "stream",
     "text": [
      "               Escaped  Hit Deadend  Timed Out\n",
      "Turning Head     0.456        0.471      0.073\n",
      "Static Head      0.421        0.571      0.008\n"
     ]
    },
    {
     "data": {
      "text/plain": [
       "<matplotlib.figure.Figure at 0x10ed33128>"
      ]
     },
     "metadata": {},
     "output_type": "display_data"
    },
    {
     "data": {
      "image/png": "[encoded data removed]",
      "text/plain": [
       "<matplotlib.figure.Figure at 0x10edb91d0>"
      ]
     },
     "metadata": {},
     "output_type": "display_data"
    }
   ],
   "source": [
    "data = pd.DataFrame(series,columns=['Escaped','Hit Deadend','Timed Out'],index = index)\n",
    "print(data.head())\n",
    "\n",
    "plt.figure()\n",
    "data.plot(kind='bar')\n",
    "# plt.xlabel('Outcome')\n",
    "plt.ylabel('Probability of Outcome')\n",
    "plt.title('Labyrith Simulation: r = 7, obstacles = 98, n = 113')\n",
    "\n",
    "plt.show()"
   ]
  },
  {
   "cell_type": "code",
   "execution_count": 8,
   "metadata": {
    "collapsed": true
   },
   "outputs": [],
   "source": [
    "hblocks = hd['Blocks'].copy()\n",
    "hradius = hd['Radius'].copy()\n",
    "sblocks = sd['Blocks'].copy()\n",
    "sradius = sd['Radius'].copy()"
   ]
  },
  {
   "cell_type": "code",
   "execution_count": 9,
   "metadata": {
    "collapsed": true
   },
   "outputs": [],
   "source": [
    "hd_rb = hd.loc[:,['Radius','Blocks']].copy()"
   ]
  },
  {
   "cell_type": "code",
   "execution_count": 10,
   "metadata": {
    "collapsed": true
   },
   "outputs": [],
   "source": [
    "uni_radius = hd_rb['Radius'].unique().tolist()"
   ]
  },
  {
   "cell_type": "code",
   "execution_count": 11,
   "metadata": {
    "collapsed": true
   },
   "outputs": [],
   "source": [
    "uni_blocks = hd_rb['Blocks'].unique().tolist()"
   ]
  },
  {
   "cell_type": "code",
   "execution_count": 12,
   "metadata": {
    "collapsed": true
   },
   "outputs": [],
   "source": [
    "uni_radius.sort()"
   ]
  },
  {
   "cell_type": "code",
   "execution_count": 13,
   "metadata": {},
   "outputs": [
    {
     "name": "stdout",
     "output_type": "stream",
     "text": [
      "[18, 32, 50, 72, 98, 128, 162, 200, 242]\n"
     ]
    }
   ],
   "source": [
    "uni_blocks.sort()\n",
    "print(uni_blocks)"
   ]
  },
  {
   "cell_type": "code",
   "execution_count": 16,
   "metadata": {},
   "outputs": [
    {
     "name": "stdout",
     "output_type": "stream",
     "text": [
      "[3, 4, 5, 6, 7, 8, 9, 10, 11]\n",
      "[32, 60, 96, 140, 192, 252, 320, 396, 480]\n",
      "[0.5625, 0.5333333333333333, 0.5208333333333334, 0.5142857142857142, 0.5104166666666666, 0.5079365079365079, 0.50625, 0.5050505050505051, 0.5041666666666667]\n"
     ]
    }
   ],
   "source": [
    "print(uni_radius)\n",
    "area = [(2*r)**2 - (2*1)**2 for r in uni_radius]\n",
    "# area = [(2*r)**2 for r in uni_radius]\n",
    "print(area)\n",
    "obstacle_density = [b/a for b,a in zip(uni_blocks,area)]\n",
    "print(obstacle_density)"
   ]
  },
  {
   "cell_type": "code",
   "execution_count": 324,
   "metadata": {},
   "outputs": [
    {
     "data": {
      "text/plain": [
       "16.34375"
      ]
     },
     "execution_count": 324,
     "metadata": {},
     "output_type": "execute_result"
    }
   ],
   "source": [
    "hd['Turned Head'].mean()"
   ]
  },
  {
   "cell_type": "code",
   "execution_count": 399,
   "metadata": {},
   "outputs": [
    {
     "name": "stdout",
     "output_type": "stream",
     "text": [
      "4.78239243561\n",
      "4.780258714\n",
      "9.245661071103305\n",
      "7.817499049864608\n",
      "37.5835628435\n",
      "20.63161435\n"
     ]
    }
   ],
   "source": [
    "hsuccess = hd[(hd['Deadend']==False) & (hd['Timeout']==False)]['Distance Travelled'].copy()\n",
    "ssuccess = sd[(sd['Deadend']==False) & (sd['Timeout']==False)]['Distance Travelled'].copy()\n",
    "\n",
    "print(hsuccess.min())\n",
    "print(ssuccess.min())\n",
    "print(hsuccess.mean())\n",
    "print(ssuccess.mean())\n",
    "print(hsuccess.max())\n",
    "print(ssuccess.max())\n",
    "\n",
    "# plt.figure()\n",
    "# plt.hold(True)\n",
    "# hsuccess.plot()\n",
    "# # ssuccess.plot()\n",
    "# # plt.legend(\"Rotational Head\", \"Static Head\")\n",
    "# plt.show()"
   ]
  },
  {
   "cell_type": "code",
   "execution_count": 326,
   "metadata": {
    "scrolled": true
   },
   "outputs": [
    {
     "data": {
      "text/plain": [
       "128    196\n",
       "162    187\n",
       "98     179\n",
       "50     176\n",
       "32     176\n",
       "200    174\n",
       "242    173\n",
       "18     172\n",
       "72     167\n",
       "Name: Blocks, dtype: int64"
      ]
     },
     "execution_count": 326,
     "metadata": {},
     "output_type": "execute_result"
    }
   ],
   "source": [
    "hblocks.value_counts()"
   ]
  },
  {
   "cell_type": "code",
   "execution_count": 327,
   "metadata": {
    "collapsed": true
   },
   "outputs": [],
   "source": [
    "hr = hradius.value_counts(False)\n",
    "sr = sradius.value_counts(False)"
   ]
  },
  {
   "cell_type": "code",
   "execution_count": 328,
   "metadata": {},
   "outputs": [
    {
     "data": {
      "text/plain": [
       "<matplotlib.figure.Figure at 0x111879c50>"
      ]
     },
     "metadata": {},
     "output_type": "display_data"
    },
    {
     "data": {
      "image/png": "[encoded data removed]",
      "text/plain": [
       "<matplotlib.figure.Figure at 0x11140fb38>"
      ]
     },
     "metadata": {},
     "output_type": "display_data"
    }
   ],
   "source": [
    "sr.name = 'Static Head Design'\n",
    "hr.name = 'Rotational Head Design'\n",
    "trails = pd.concat([hr,sr],axis=1)\n",
    "plt.figure()\n",
    "trails.plot(kind='bar')\n",
    "plt.title(\"Destribution of Labyrinth Sizes\")\n",
    "plt.ylabel(\"Number of Trials\")\n",
    "plt.xlabel(\"Radius [Unit Length]\")\n",
    "plt.show()"
   ]
  },
  {
   "cell_type": "code",
   "execution_count": 329,
   "metadata": {},
   "outputs": [
    {
     "data": {
      "text/html": [
       "<div>\n",
       "<style>\n",
       "    .dataframe thead tr:only-child th {\n",
       "        text-align: right;\n",
       "    }\n",
       "\n",
       "    .dataframe thead th {\n",
       "        text-align: left;\n",
       "    }\n",
       "\n",
       "    .dataframe tbody tr th {\n",
       "        vertical-align: top;\n",
       "    }\n",
       "</style>\n",
       "<table border=\"1\" class=\"dataframe\">\n",
       "  <thead>\n",
       "    <tr style=\"text-align: right;\">\n",
       "      <th></th>\n",
       "      <th>Rotational Head Design</th>\n",
       "      <th>Static Head Design</th>\n",
       "    </tr>\n",
       "  </thead>\n",
       "  <tbody>\n",
       "    <tr>\n",
       "      <th>3</th>\n",
       "      <td>172</td>\n",
       "      <td>132</td>\n",
       "    </tr>\n",
       "    <tr>\n",
       "      <th>4</th>\n",
       "      <td>176</td>\n",
       "      <td>116</td>\n",
       "    </tr>\n",
       "    <tr>\n",
       "      <th>5</th>\n",
       "      <td>176</td>\n",
       "      <td>109</td>\n",
       "    </tr>\n",
       "    <tr>\n",
       "      <th>6</th>\n",
       "      <td>167</td>\n",
       "      <td>111</td>\n",
       "    </tr>\n",
       "    <tr>\n",
       "      <th>7</th>\n",
       "      <td>179</td>\n",
       "      <td>113</td>\n",
       "    </tr>\n",
       "    <tr>\n",
       "      <th>8</th>\n",
       "      <td>196</td>\n",
       "      <td>96</td>\n",
       "    </tr>\n",
       "    <tr>\n",
       "      <th>9</th>\n",
       "      <td>187</td>\n",
       "      <td>101</td>\n",
       "    </tr>\n",
       "    <tr>\n",
       "      <th>10</th>\n",
       "      <td>174</td>\n",
       "      <td>110</td>\n",
       "    </tr>\n",
       "    <tr>\n",
       "      <th>11</th>\n",
       "      <td>173</td>\n",
       "      <td>112</td>\n",
       "    </tr>\n",
       "  </tbody>\n",
       "</table>\n",
       "</div>"
      ],
      "text/plain": [
       "    Rotational Head Design  Static Head Design\n",
       "3                      172                 132\n",
       "4                      176                 116\n",
       "5                      176                 109\n",
       "6                      167                 111\n",
       "7                      179                 113\n",
       "8                      196                  96\n",
       "9                      187                 101\n",
       "10                     174                 110\n",
       "11                     173                 112"
      ]
     },
     "execution_count": 329,
     "metadata": {},
     "output_type": "execute_result"
    }
   ],
   "source": [
    "trails.head(10)"
   ]
  },
  {
   "cell_type": "code",
   "execution_count": 330,
   "metadata": {
    "collapsed": true
   },
   "outputs": [],
   "source": [
    "hfailed = hd[hd['Deadend']==True]\n",
    "sfailed = sd[sd['Deadend']==True]"
   ]
  },
  {
   "cell_type": "code",
   "execution_count": 331,
   "metadata": {},
   "outputs": [
    {
     "data": {
      "text/plain": [
       "0.5566510437191672"
      ]
     },
     "execution_count": 331,
     "metadata": {},
     "output_type": "execute_result"
    }
   ],
   "source": [
    "# Progress before failure\n",
    "hfailed['Radial Distance'].mean()/hfailed['Radius'].mean()"
   ]
  },
  {
   "cell_type": "code",
   "execution_count": 332,
   "metadata": {},
   "outputs": [
    {
     "data": {
      "text/plain": [
       "0.43897933107476855"
      ]
     },
     "execution_count": 332,
     "metadata": {},
     "output_type": "execute_result"
    }
   ],
   "source": [
    "# Progress before failure\n",
    "sfailed['Radial Distance'].mean()/sfailed['Radius'].mean()"
   ]
  },
  {
   "cell_type": "code",
   "execution_count": 333,
   "metadata": {
    "collapsed": true
   },
   "outputs": [],
   "source": [
    "hhard = hd[hd['Radius']>8]\n",
    "shard = sd[sd['Radius']>8]"
   ]
  },
  {
   "cell_type": "code",
   "execution_count": 334,
   "metadata": {},
   "outputs": [
    {
     "data": {
      "text/plain": [
       "0.22846441947565543"
      ]
     },
     "execution_count": 334,
     "metadata": {},
     "output_type": "execute_result"
    }
   ],
   "source": [
    "len(hhard[hhard['Deadend']==False])/len(hhard)"
   ]
  },
  {
   "cell_type": "code",
   "execution_count": 335,
   "metadata": {},
   "outputs": [
    {
     "data": {
      "text/plain": [
       "0.1021671826625387"
      ]
     },
     "execution_count": 335,
     "metadata": {},
     "output_type": "execute_result"
    }
   ],
   "source": [
    "len(shard[shard['Deadend']==False])/len(shard)"
   ]
  },
  {
   "cell_type": "code",
   "execution_count": 336,
   "metadata": {},
   "outputs": [
    {
     "data": {
      "text/plain": [
       "[132, 116, 113, 112, 111, 110, 109, 101, 96]"
      ]
     },
     "execution_count": 336,
     "metadata": {},
     "output_type": "execute_result"
    }
   ],
   "source": [
    "sd['Radius'].value_counts().tolist()"
   ]
  },
  {
   "cell_type": "code",
   "execution_count": 337,
   "metadata": {},
   "outputs": [
    {
     "data": {
      "text/plain": [
       "3     132\n",
       "4     116\n",
       "7     113\n",
       "11    112\n",
       "6     111\n",
       "10    110\n",
       "5     109\n",
       "9     101\n",
       "8      96\n",
       "Name: Radius, dtype: int64"
      ]
     },
     "execution_count": 337,
     "metadata": {},
     "output_type": "execute_result"
    }
   ],
   "source": [
    "sd['Radius'].value_counts()"
   ]
  },
  {
   "cell_type": "code",
   "execution_count": 338,
   "metadata": {},
   "outputs": [
    {
     "data": {
      "text/plain": [
       "array([ 3,  7,  5,  8,  4,  6,  9, 10, 11])"
      ]
     },
     "execution_count": 338,
     "metadata": {},
     "output_type": "execute_result"
    }
   ],
   "source": [
    "sd['Radius'].unique()"
   ]
  },
  {
   "cell_type": "code",
   "execution_count": 339,
   "metadata": {},
   "outputs": [
    {
     "name": "stdout",
     "output_type": "stream",
     "text": [
      "172 40\n",
      "179 66\n",
      "176 67\n",
      "196 100\n",
      "176 60\n",
      "167 56\n",
      "187 86\n",
      "174 64\n",
      "173 61\n",
      "3     132\n",
      "4     116\n",
      "7     113\n",
      "11    112\n",
      "6     111\n",
      "10    110\n",
      "5     109\n",
      "9     101\n",
      "8      96\n",
      "Name: Radius, dtype: int64\n"
     ]
    }
   ],
   "source": [
    "sd_freq = sd['Radius'].value_counts()\n",
    "hd_new = pd.DataFrame(columns=hd.columns.tolist())\n",
    "for i in sd['Radius'].unique():\n",
    "#     print(i,sd_freq[i])\n",
    "#     print(sd_freq[i],temp)\n",
    "    df = hd[hd['Radius']==i].copy()\n",
    "    df.index = range(len(df.index))\n",
    "    to_drop = np.arange(sd_freq[i],len(df)).tolist()\n",
    "    print(len(df),len(to_drop))\n",
    "    df = df.drop(df.index[to_drop])\n",
    "    hd_new=pd.concat([hd_new,df],axis=0)\n",
    "print(hd_new['Radius'].value_counts())"
   ]
  },
  {
   "cell_type": "code",
   "execution_count": 296,
   "metadata": {},
   "outputs": [
    {
     "data": {
      "text/html": [
       "<div>\n",
       "<style>\n",
       "    .dataframe thead tr:only-child th {\n",
       "        text-align: right;\n",
       "    }\n",
       "\n",
       "    .dataframe thead th {\n",
       "        text-align: left;\n",
       "    }\n",
       "\n",
       "    .dataframe tbody tr th {\n",
       "        vertical-align: top;\n",
       "    }\n",
       "</style>\n",
       "<table border=\"1\" class=\"dataframe\">\n",
       "  <thead>\n",
       "    <tr style=\"text-align: right;\">\n",
       "      <th></th>\n",
       "      <th>Distance Travelled</th>\n",
       "      <th>Radial Distance</th>\n",
       "      <th>Deadend</th>\n",
       "      <th>Turned Head</th>\n",
       "      <th>Blocks</th>\n",
       "      <th>Radius</th>\n",
       "      <th>Timeout</th>\n",
       "    </tr>\n",
       "  </thead>\n",
       "  <tbody>\n",
       "    <tr>\n",
       "      <th>17</th>\n",
       "      <td>5.003965</td>\n",
       "      <td>4.852556</td>\n",
       "      <td>False</td>\n",
       "      <td>0</td>\n",
       "      <td>18</td>\n",
       "      <td>3</td>\n",
       "      <td>False</td>\n",
       "    </tr>\n",
       "    <tr>\n",
       "      <th>20</th>\n",
       "      <td>4.782392</td>\n",
       "      <td>4.747203</td>\n",
       "      <td>False</td>\n",
       "      <td>0</td>\n",
       "      <td>18</td>\n",
       "      <td>3</td>\n",
       "      <td>False</td>\n",
       "    </tr>\n",
       "    <tr>\n",
       "      <th>22</th>\n",
       "      <td>2.683229</td>\n",
       "      <td>2.408419</td>\n",
       "      <td>True</td>\n",
       "      <td>6</td>\n",
       "      <td>18</td>\n",
       "      <td>3</td>\n",
       "      <td>False</td>\n",
       "    </tr>\n",
       "    <tr>\n",
       "      <th>23</th>\n",
       "      <td>4.960313</td>\n",
       "      <td>4.876439</td>\n",
       "      <td>False</td>\n",
       "      <td>0</td>\n",
       "      <td>18</td>\n",
       "      <td>3</td>\n",
       "      <td>False</td>\n",
       "    </tr>\n",
       "    <tr>\n",
       "      <th>52</th>\n",
       "      <td>1.753796</td>\n",
       "      <td>1.556167</td>\n",
       "      <td>True</td>\n",
       "      <td>10</td>\n",
       "      <td>18</td>\n",
       "      <td>3</td>\n",
       "      <td>False</td>\n",
       "    </tr>\n",
       "  </tbody>\n",
       "</table>\n",
       "</div>"
      ],
      "text/plain": [
       "    Distance Travelled  Radial Distance Deadend Turned Head Blocks Radius  \\\n",
       "17            5.003965         4.852556   False           0     18      3   \n",
       "20            4.782392         4.747203   False           0     18      3   \n",
       "22            2.683229         2.408419    True           6     18      3   \n",
       "23            4.960313         4.876439   False           0     18      3   \n",
       "52            1.753796         1.556167    True          10     18      3   \n",
       "\n",
       "   Timeout  \n",
       "17   False  \n",
       "20   False  \n",
       "22   False  \n",
       "23   False  \n",
       "52   False  "
      ]
     },
     "execution_count": 296,
     "metadata": {},
     "output_type": "execute_result"
    }
   ],
   "source": [
    "hd_new.head()"
   ]
  },
  {
   "cell_type": "code",
   "execution_count": 297,
   "metadata": {},
   "outputs": [
    {
     "data": {
      "text/plain": [
       "(933, 7)"
      ]
     },
     "execution_count": 297,
     "metadata": {},
     "output_type": "execute_result"
    }
   ],
   "source": [
    "hd_new.shape"
   ]
  },
  {
   "cell_type": "code",
   "execution_count": 298,
   "metadata": {},
   "outputs": [
    {
     "data": {
      "text/plain": [
       "(1000, 7)"
      ]
     },
     "execution_count": 298,
     "metadata": {},
     "output_type": "execute_result"
    }
   ],
   "source": [
    "sd.shape"
   ]
  },
  {
   "cell_type": "code",
   "execution_count": 302,
   "metadata": {},
   "outputs": [
    {
     "data": {
      "text/plain": [
       "3"
      ]
     },
     "execution_count": 302,
     "metadata": {},
     "output_type": "execute_result"
    }
   ],
   "source": [
    "hd.index[3]"
   ]
  },
  {
   "cell_type": "code",
   "execution_count": 340,
   "metadata": {
    "collapsed": true
   },
   "outputs": [],
   "source": [
    "hr = hd_new['Radius'].value_counts(False)\n",
    "sr = sradius.value_counts(False)"
   ]
  },
  {
   "cell_type": "code",
   "execution_count": 342,
   "metadata": {},
   "outputs": [
    {
     "data": {
      "text/plain": [
       "<matplotlib.figure.Figure at 0x11183a278>"
      ]
     },
     "metadata": {},
     "output_type": "display_data"
    },
    {
     "data": {
      "image/png": "[encoded data removed]",
      "text/plain": [
       "<matplotlib.figure.Figure at 0x1078efa58>"
      ]
     },
     "metadata": {},
     "output_type": "display_data"
    }
   ],
   "source": [
    "sr.name = 'Static Head Design'\n",
    "hr.name = 'Rotational Head Design'\n",
    "trails = pd.concat([hr,sr],axis=1)\n",
    "plt.figure()\n",
    "trails.plot(kind='bar')\n",
    "plt.title(\"Destribution of Labyrinth Sizes\")\n",
    "plt.ylabel(\"Number of Trials\")\n",
    "plt.xlabel(\"Labyrinth Radius [Unit Length]\")\n",
    "plt.show()"
   ]
  },
  {
   "cell_type": "code",
   "execution_count": 351,
   "metadata": {},
   "outputs": [
    {
     "name": "stdout",
     "output_type": "stream",
     "text": [
      "222\n",
      "222\n",
      "               Escaped  Hit Deadend  Timed Out\n",
      "Turning Head     0.108        0.766      0.126\n",
      "Static Head      0.045        0.919      0.036\n"
     ]
    },
    {
     "data": {
      "text/plain": [
       "<matplotlib.figure.Figure at 0x111870fd0>"
      ]
     },
     "metadata": {},
     "output_type": "display_data"
    },
    {
     "data": {
      "image/png": "[encoded data removed]",
      "text/plain": [
       "<matplotlib.figure.Figure at 0x111870208>"
      ]
     },
     "metadata": {},
     "output_type": "display_data"
    }
   ],
   "source": [
    "series =[]\n",
    "index = []\n",
    "for i,df in enumerate([hd_new,sd]):\n",
    "    blocks = df['Blocks'][1]\n",
    "    radius = df['Radius'][1]\n",
    "    df = df[df['Radius'] >= 10]\n",
    "    print(len(df))\n",
    "#     df = df[df['Radius'] > 3]\n",
    "    f = len(df[df['Deadend']==True])\n",
    "    s = len(df[df['Deadend']==False])\n",
    "    tot = s+f\n",
    "    t_frac = round(len(df[df['Timeout']==True])/tot,3)\n",
    "    s_frac = round(s/tot,3)\n",
    "    f_frac = round(f/tot,3)\n",
    "    series.append([s_frac-t_frac,f_frac,t_frac])\n",
    "    if df['Turned Head'].mean() > 1:\n",
    "        index.append('Turning Head '.format(radius,blocks))\n",
    "    else:\n",
    "        index.append('Static Head'.format(radius,blocks))\n",
    "        \n",
    "data = pd.DataFrame(series,columns=['Escaped','Hit Deadend','Timed Out'],index = index)\n",
    "print(data.head())\n",
    "\n",
    "plt.figure()\n",
    "data.plot(kind='bar')\n",
    "# plt.xlabel('Outcome')\n",
    "plt.ylabel('Probability of Outcome')\n",
    "plt.title('Labyrith Simulation: Overall Performance')\n",
    "\n",
    "plt.show()"
   ]
  },
  {
   "cell_type": "code",
   "execution_count": 388,
   "metadata": {
    "collapsed": true
   },
   "outputs": [],
   "source": [
    "pie_data = data['Escaped'].copy()\n",
    "old_sum = pie_data.sum()\n",
    "for i in range(len(pie_data)):\n",
    "    pie_data[i]=pie_data[i]/old_sum\n",
    "\n",
    "# pie_data['Static Head']=pie_data['Static Head']/pie_data.sum()\n",
    "# pie_data['Turning Head']=pie_data['Turning Head']/pie_data.sum()"
   ]
  },
  {
   "cell_type": "code",
   "execution_count": 391,
   "metadata": {},
   "outputs": [
    {
     "data": {
      "text/plain": [
       "Turning Head     0.705882\n",
       "Static Head      0.294118\n",
       "Name: , dtype: float64"
      ]
     },
     "execution_count": 391,
     "metadata": {},
     "output_type": "execute_result"
    }
   ],
   "source": [
    "pie_data.name = \"\"\n",
    "pie_data.head()\n"
   ]
  },
  {
   "cell_type": "code",
   "execution_count": 394,
   "metadata": {},
   "outputs": [
    {
     "data": {
      "image/png": "[encoded data removed]",
      "text/plain": [
       "<matplotlib.figure.Figure at 0x1113806a0>"
      ]
     },
     "metadata": {},
     "output_type": "display_data"
    }
   ],
   "source": [
    "plt.figure()\n",
    "pie_data.plot(kind='pie')\n",
    "plt.title('Relative Successrate in large scale Labyrinth')\n",
    "plt.show()"
   ]
  },
  {
   "cell_type": "code",
   "execution_count": 10,
   "metadata": {},
   "outputs": [
    {
     "data": {
      "text/html": [
       "<div>\n",
       "<style>\n",
       "    .dataframe thead tr:only-child th {\n",
       "        text-align: right;\n",
       "    }\n",
       "\n",
       "    .dataframe thead th {\n",
       "        text-align: left;\n",
       "    }\n",
       "\n",
       "    .dataframe tbody tr th {\n",
       "        vertical-align: top;\n",
       "    }\n",
       "</style>\n",
       "<table border=\"1\" class=\"dataframe\">\n",
       "  <thead>\n",
       "    <tr style=\"text-align: right;\">\n",
       "      <th></th>\n",
       "      <th>Distance Travelled</th>\n",
       "      <th>Radial Distance</th>\n",
       "      <th>Deadend</th>\n",
       "      <th>Turned Head</th>\n",
       "      <th>Blocks</th>\n",
       "      <th>Radius</th>\n",
       "      <th>Timeout</th>\n",
       "      <th>Collided</th>\n",
       "    </tr>\n",
       "  </thead>\n",
       "  <tbody>\n",
       "    <tr>\n",
       "      <th>0</th>\n",
       "      <td>7.829222</td>\n",
       "      <td>7.577031</td>\n",
       "      <td>False</td>\n",
       "      <td>0</td>\n",
       "      <td>50</td>\n",
       "      <td>5</td>\n",
       "      <td>False</td>\n",
       "      <td>False</td>\n",
       "    </tr>\n",
       "    <tr>\n",
       "      <th>1</th>\n",
       "      <td>3.870495</td>\n",
       "      <td>3.540833</td>\n",
       "      <td>False</td>\n",
       "      <td>0</td>\n",
       "      <td>72</td>\n",
       "      <td>6</td>\n",
       "      <td>False</td>\n",
       "      <td>True</td>\n",
       "    </tr>\n",
       "    <tr>\n",
       "      <th>2</th>\n",
       "      <td>2.662340</td>\n",
       "      <td>2.492917</td>\n",
       "      <td>True</td>\n",
       "      <td>0</td>\n",
       "      <td>162</td>\n",
       "      <td>9</td>\n",
       "      <td>False</td>\n",
       "      <td>False</td>\n",
       "    </tr>\n",
       "    <tr>\n",
       "      <th>3</th>\n",
       "      <td>6.638023</td>\n",
       "      <td>6.286351</td>\n",
       "      <td>False</td>\n",
       "      <td>0</td>\n",
       "      <td>32</td>\n",
       "      <td>4</td>\n",
       "      <td>False</td>\n",
       "      <td>False</td>\n",
       "    </tr>\n",
       "    <tr>\n",
       "      <th>4</th>\n",
       "      <td>4.992501</td>\n",
       "      <td>4.920768</td>\n",
       "      <td>True</td>\n",
       "      <td>0</td>\n",
       "      <td>128</td>\n",
       "      <td>8</td>\n",
       "      <td>False</td>\n",
       "      <td>False</td>\n",
       "    </tr>\n",
       "  </tbody>\n",
       "</table>\n",
       "</div>"
      ],
      "text/plain": [
       "   Distance Travelled  Radial Distance  Deadend  Turned Head  Blocks  Radius  \\\n",
       "0            7.829222         7.577031    False            0      50       5   \n",
       "1            3.870495         3.540833    False            0      72       6   \n",
       "2            2.662340         2.492917     True            0     162       9   \n",
       "3            6.638023         6.286351    False            0      32       4   \n",
       "4            4.992501         4.920768     True            0     128       8   \n",
       "\n",
       "   Timeout  Collided  \n",
       "0    False     False  \n",
       "1    False      True  \n",
       "2    False     False  \n",
       "3    False     False  \n",
       "4    False     False  "
      ]
     },
     "execution_count": 10,
     "metadata": {},
     "output_type": "execute_result"
    }
   ],
   "source": [
    "scoll.head()"
   ]
  },
  {
   "cell_type": "code",
   "execution_count": 11,
   "metadata": {},
   "outputs": [
    {
     "data": {
      "text/html": [
       "<div>\n",
       "<style>\n",
       "    .dataframe thead tr:only-child th {\n",
       "        text-align: right;\n",
       "    }\n",
       "\n",
       "    .dataframe thead th {\n",
       "        text-align: left;\n",
       "    }\n",
       "\n",
       "    .dataframe tbody tr th {\n",
       "        vertical-align: top;\n",
       "    }\n",
       "</style>\n",
       "<table border=\"1\" class=\"dataframe\">\n",
       "  <thead>\n",
       "    <tr style=\"text-align: right;\">\n",
       "      <th></th>\n",
       "      <th>Distance Travelled</th>\n",
       "      <th>Radial Distance</th>\n",
       "      <th>Turned Head</th>\n",
       "      <th>Blocks</th>\n",
       "      <th>Radius</th>\n",
       "    </tr>\n",
       "  </thead>\n",
       "  <tbody>\n",
       "    <tr>\n",
       "      <th>count</th>\n",
       "      <td>164.000000</td>\n",
       "      <td>164.000000</td>\n",
       "      <td>164.0</td>\n",
       "      <td>164.000000</td>\n",
       "      <td>164.000000</td>\n",
       "    </tr>\n",
       "    <tr>\n",
       "      <th>mean</th>\n",
       "      <td>5.430369</td>\n",
       "      <td>4.795635</td>\n",
       "      <td>0.0</td>\n",
       "      <td>137.756098</td>\n",
       "      <td>8.060976</td>\n",
       "    </tr>\n",
       "    <tr>\n",
       "      <th>std</th>\n",
       "      <td>2.291944</td>\n",
       "      <td>1.518182</td>\n",
       "      <td>0.0</td>\n",
       "      <td>62.845718</td>\n",
       "      <td>1.980565</td>\n",
       "    </tr>\n",
       "    <tr>\n",
       "      <th>min</th>\n",
       "      <td>3.042940</td>\n",
       "      <td>2.849691</td>\n",
       "      <td>0.0</td>\n",
       "      <td>32.000000</td>\n",
       "      <td>4.000000</td>\n",
       "    </tr>\n",
       "    <tr>\n",
       "      <th>25%</th>\n",
       "      <td>3.887097</td>\n",
       "      <td>3.730743</td>\n",
       "      <td>0.0</td>\n",
       "      <td>72.000000</td>\n",
       "      <td>6.000000</td>\n",
       "    </tr>\n",
       "    <tr>\n",
       "      <th>50%</th>\n",
       "      <td>4.717521</td>\n",
       "      <td>4.406329</td>\n",
       "      <td>0.0</td>\n",
       "      <td>128.000000</td>\n",
       "      <td>8.000000</td>\n",
       "    </tr>\n",
       "    <tr>\n",
       "      <th>75%</th>\n",
       "      <td>5.993201</td>\n",
       "      <td>5.395425</td>\n",
       "      <td>0.0</td>\n",
       "      <td>200.000000</td>\n",
       "      <td>10.000000</td>\n",
       "    </tr>\n",
       "    <tr>\n",
       "      <th>max</th>\n",
       "      <td>17.226528</td>\n",
       "      <td>12.033124</td>\n",
       "      <td>0.0</td>\n",
       "      <td>242.000000</td>\n",
       "      <td>11.000000</td>\n",
       "    </tr>\n",
       "  </tbody>\n",
       "</table>\n",
       "</div>"
      ],
      "text/plain": [
       "       Distance Travelled  Radial Distance  Turned Head      Blocks  \\\n",
       "count          164.000000       164.000000        164.0  164.000000   \n",
       "mean             5.430369         4.795635          0.0  137.756098   \n",
       "std              2.291944         1.518182          0.0   62.845718   \n",
       "min              3.042940         2.849691          0.0   32.000000   \n",
       "25%              3.887097         3.730743          0.0   72.000000   \n",
       "50%              4.717521         4.406329          0.0  128.000000   \n",
       "75%              5.993201         5.395425          0.0  200.000000   \n",
       "max             17.226528        12.033124          0.0  242.000000   \n",
       "\n",
       "           Radius  \n",
       "count  164.000000  \n",
       "mean     8.060976  \n",
       "std      1.980565  \n",
       "min      4.000000  \n",
       "25%      6.000000  \n",
       "50%      8.000000  \n",
       "75%     10.000000  \n",
       "max     11.000000  "
      ]
     },
     "execution_count": 11,
     "metadata": {},
     "output_type": "execute_result"
    }
   ],
   "source": [
    "scoll[scoll['Collided']==True].describe()"
   ]
  },
  {
   "cell_type": "code",
   "execution_count": 26,
   "metadata": {},
   "outputs": [
    {
     "data": {
      "text/plain": [
       "0.164"
      ]
     },
     "execution_count": 26,
     "metadata": {},
     "output_type": "execute_result"
    }
   ],
   "source": [
    "len(scoll[scoll['Collided']==True])/len(scoll)"
   ]
  },
  {
   "cell_type": "code",
   "execution_count": 41,
   "metadata": {},
   "outputs": [
    {
     "name": "stdout",
     "output_type": "stream",
     "text": [
      "3\n",
      "4\n",
      "5\n",
      "6\n",
      "7\n",
      "8\n",
      "9\n",
      "10\n",
      "11\n",
      "['3', '4', '5', '6', '7', '8', '9', '10', '11']\n",
      "9\n",
      "   Collision Free  Collided\n",
      "3        1.000000  0.000000\n",
      "4        0.948276  0.051724\n",
      "5        0.912000  0.088000\n",
      "6        0.812030  0.187970\n",
      "7        0.737374  0.262626\n"
     ]
    }
   ],
   "source": [
    "series =[]\n",
    "index = []\n",
    "radii = scoll['Radius'].unique().tolist()\n",
    "radii.sort()\n",
    "for i in radii:\n",
    "    print(i)\n",
    "    scoll_s = scoll[scoll['Radius']==i]\n",
    "    value = len(scoll_s[scoll_s['Collided']==True])/len(scoll_s)\n",
    "    index.append(str(i))\n",
    "    series.append((1-value,value))\n",
    "print(index)\n",
    "print(len(series))\n",
    "total = len(scoll[scoll['Collided']==True])/len(scoll)\n",
    "series.append((1-total,total))\n",
    "index.append(\"Total\")\n",
    "scoll_data = pd.DataFrame(series,columns=['Collision Free','Collided'],index = index)\n",
    "print(scoll_data.head())"
   ]
  },
  {
   "cell_type": "code",
   "execution_count": 42,
   "metadata": {},
   "outputs": [
    {
     "data": {
      "text/plain": [
       "<matplotlib.figure.Figure at 0x11988fdd8>"
      ]
     },
     "metadata": {},
     "output_type": "display_data"
    },
    {
     "data": {
      "image/png": "[encoded data removed]",
      "text/plain": [
       "<matplotlib.figure.Figure at 0x119891b70>"
      ]
     },
     "metadata": {},
     "output_type": "display_data"
    }
   ],
   "source": [
    "plt.figure()\n",
    "scoll_data.plot(kind='bar')\n",
    "plt.ylabel(\"Probability of Event\")\n",
    "plt.xlabel(\"Labyrinth Radius [meter]\")\n",
    "plt.title(\"Collisions for Obstacle Density of 0.5 n = 1000\")\n",
    "plt.show()"
   ]
  },
  {
   "cell_type": "code",
   "execution_count": 34,
   "metadata": {},
   "outputs": [
    {
     "data": {
      "text/plain": [
       "[5, 6, 9, 4, 8, 3, 10, 11, 7]"
      ]
     },
     "execution_count": 34,
     "metadata": {},
     "output_type": "execute_result"
    }
   ],
   "source": [
    "scoll['Radius'].unique().tolist()"
   ]
  },
  {
   "cell_type": "code",
   "execution_count": null,
   "metadata": {
    "collapsed": true
   },
   "outputs": [],
   "source": [
    "len(scoll[scoll['Collided']==True])/len(scoll)"
   ]
  }
 ],
 "metadata": {
  "kernelspec": {
   "display_name": "Python 3",
   "language": "python",
   "name": "python3"
  },
  "language_info": {
   "codemirror_mode": {
    "name": "ipython",
    "version": 3
   },
   "file_extension": ".py",
   "mimetype": "text/x-python",
   "name": "python",
   "nbconvert_exporter": "python",
   "pygments_lexer": "ipython3",
   "version": "3.6.1"
  }
 },
 "nbformat": 4,
 "nbformat_minor": 2
}
